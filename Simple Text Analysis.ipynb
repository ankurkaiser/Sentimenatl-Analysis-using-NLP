{
 "cells": [
  {
   "cell_type": "code",
   "execution_count": 1,
   "metadata": {},
   "outputs": [
    {
     "name": "stdout",
     "output_type": "stream",
     "text": [
      "india\n",
      "\n",
      "Updated: Aug 30, 2020 20:30 IST\n",
      "\n",
      "Police in Lucknow, probing the killing of an Indian Railway officer’s wife and teenage son on Saturday allegedly by his 14-year-old daughter, are puzzled by scribbled notes in her notebook, plastic skulls, scary pictures and a sad emoji drawn on her bedroom wall, officials privy to the investigation said on Sunday.\n",
      "\n",
      "Her ‘unpredictable behaviour’ too perplexed the police, the officials added.\n",
      "\n",
      "Lucknow commissioner of police (CP) Sujeet Pandey said it was important to consult a psychologist about the girl’s behaviour to understand the crime.\n",
      "\n",
      "ALSO WATCH | Daughter of senior railway officer killed mother, brother in Lucknow, say cops\n",
      "\n",
      "“We would mention in the judicial proceedings (the need) to consult a psychologist as her father had also admitted before me that she was in depression and her behaviour was not normal,” Pandey said.\n",
      "\n",
      "The police commissioner said the girl wrote ‘disqualified human’, on the washroom mirror and similar words were scribbled in her notebook.\n",
      "\n",
      "“The writing was not very clear, so it took time to understand it. We compared the scribbled notes with the handwriting in the girl’s other notebooks that matched hers,” he said.\n",
      "\n",
      "“We will seek the opinion of forensic experts on these points,” he said.\n",
      "\n",
      "Pandey said a dedicated team had been constituted to contact the girl’s class mates, friends and teachers, who could reveal more about her behaviour. A police team also spoke to the girl’s close relatives to know about her but nothing very conclusive emerged, he added.\n",
      "\n",
      "The commissioner said the initial findings suggested that she was a meritorious student and actively participated in sports like shooting from a very early age. She was a trained shooter, he said, adding that the.22 bore weapon used in the crime had already been recovered and it was registered in her father’s name. He said a similar bore weapon was often used by shooters and the girl was trained to use it.\n",
      "\n",
      "On Saturday, the girl allegedly shot dead her mother and elder brother while they were sleeping in their room at a bungalow under the city’s Gautampalli police station limits.\n",
      "\n",
      "The victims’ relatives told reporters that it was the railway official’s birthday on Sunday and his wife and son had planned to celebrate the occasion.The bodies of the two victims were cremated at Baikunth Dham crematorium on Sunday afternoon.\n",
      "-0.024212454212454215\n"
     ]
    }
   ],
   "source": [
    "from textblob import TextBlob\n",
    "from newspaper import Article\n",
    "\n",
    "url =\"https://www.hindustantimes.com/india-news/scribbled-notes-scary-pictures-puzzle-cops-probing-murder-of-rly-officer-s-wife-son/story-EY1MmVVZFJYiyfsIOMCifO.html\"\n",
    "article = Article(url)\n",
    "\n",
    "article.download()\n",
    "\n",
    "article.parse() #splitting the text\n",
    "article.nlp()\n",
    "\n",
    "text=article.text\n",
    "\n",
    "print(text)\n",
    "\n",
    "blob = TextBlob(text)\n",
    "sentiment = blob.sentiment.polarity #-1 to 1\n",
    "\n"
   ]
  },
  {
   "cell_type": "code",
   "execution_count": 2,
   "metadata": {},
   "outputs": [
    {
     "name": "stdout",
     "output_type": "stream",
     "text": [
      "-0.024212454212454215\n"
     ]
    }
   ],
   "source": [
    "print(sentiment)"
   ]
  },
  {
   "cell_type": "code",
   "execution_count": null,
   "metadata": {},
   "outputs": [],
   "source": []
  }
 ],
 "metadata": {
  "kernelspec": {
   "display_name": "Python 3",
   "language": "python",
   "name": "python3"
  },
  "language_info": {
   "codemirror_mode": {
    "name": "ipython",
    "version": 3
   },
   "file_extension": ".py",
   "mimetype": "text/x-python",
   "name": "python",
   "nbconvert_exporter": "python",
   "pygments_lexer": "ipython3",
   "version": "3.7.4"
  }
 },
 "nbformat": 4,
 "nbformat_minor": 4
}
